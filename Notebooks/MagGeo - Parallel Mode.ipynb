{
 "cells": [
  {
   "cell_type": "markdown",
   "metadata": {},
   "source": [
    "# MagGeo - Parallel Mode \n",
    "\n",
    "**Authors** | Fernando Benitez-Paez, Urška Demšar, Jed Long, Ciaran Beggan\n",
    "\n",
    "**Contact**  | [Fernando.Benitez@st-andrews.ac.uk](mailto:Fernando.Benitez@st-andrews.ac.uk), [ud2@st-andrews.ac.uk](mailto:ud2@st-andrews.ac.uk), [jed.long@uwo.ca](mailto:jed.long@uwo.ca), [ciar@bgs.ac.uk](mailto:Fernando.Benitez@st-andrews.ac.uk)\n",
    "\n",
    "**Keywords** | Bird migration, data fusion, Earth’s magnetic field, Swarm, GPS tracking"
   ]
  },
  {
   "cell_type": "markdown",
   "metadata": {},
   "source": [
    "## Overview\n",
    "\n",
    "This Jupyter Notebook will guide you through the required steps to annotate your GPS tracking data with the earth's magnetic field data from Swarm (European Space Agency). This version is called Parallel Mode to take advantage of parallelized computing to process big datasets.\n",
    "\n",
    "To execute the code, you can go through each cell (pressing <code>Crtl+Enter</code>), you will also find inner comments `##` to describe each particular step. If you are not familiar with Jupyter Notebook, you migth want to take some time to learn how to use it first, for example take a look at the <code>notebook-basics.ipynb</code> Notebook inside MagGeo.\n",
    "\n",
    "**For parallel processing, there are some considerations to make:**\n",
    "\n",
    "1. Linux and Windows environments have some differences. In windows we need to separate the functions and store them separately, then import them into a `main` function. \n",
    "3. Defining what part of the process is <strong>CPU bound</strong> and what part is <strong>I/O bound</strong>: Identify what parts of the program are I/O bound (writing or reading from the disk or network) and what part par CPU bound ( Processing capacity). To take advantage of our CPU capacity we need to identify the process where the CPU is actually doing the main Tasks."
   ]
  },
  {
   "cell_type": "markdown",
   "metadata": {},
   "source": [
    "## Data requirements\n",
    "\n",
    "\n",
    "<div class=\"alert alert-warning\" role=\"alert\">\n",
    "  <strong>🔎 Your trajectory must be in a csv format:</strong>\n",
    "\n",
    "There are three columns that  must be included in your GPS trajectory. Make sure your GPS trajectory includes  **Latitude** , **Longitude** and **timestamp**. We suggest that the Timestamp column follow the day/month/year Hour:Minute (**dd/mm/yyyy HH:MM:SS**) format, Latitude and Longitude should be in decimal degrees (WGS84). Optionally an altitude column can be used providing altitude (the altitude must be in **km**). Other Columns will be ignored. Here it is an example of how your GPS track should look:\n",
    "\n",
    "<img src=\"../images/TableExample.png\">\n",
    "\n",
    "For this example we are reading the <strong>BirdGPSTrajectory.csv</strong> file. If you want to run the method using your own csv file, make sure you store your the file in the <code>./data</code> folder. For more information about the dataset we used in this example go to the Main Notebook.\n",
    "</div>"
   ]
  },
  {
   "cell_type": "markdown",
   "metadata": {},
   "source": [
    "## Import the requeried libraries"
   ]
  },
  {
   "cell_type": "code",
   "execution_count": 2,
   "metadata": {
    "ExecuteTime": {
     "end_time": "2021-02-16T17:42:36.049156Z",
     "start_time": "2021-02-16T17:42:30.346278Z"
    },
    "scrolled": true
   },
   "outputs": [],
   "source": [
    "import datetime as dt\n",
    "from datetime import timedelta\n",
    "import sys, os\n",
    "import pandas as pd\n",
    "import numpy as np\n",
    "from tqdm import tqdm\n",
    "sys.path.append(\"..\")\n",
    "from viresclient import set_token\n",
    "from MagGeoFunctions import getGPSData\n",
    "from MagGeoFunctions import Get_Swarm_residuals\n"
   ]
  },
  {
   "cell_type": "markdown",
   "metadata": {},
   "source": [
    "## Add your VirES web client Token\n",
    "\n",
    "The **VirES client API**, requires a token. Before start you need to get your own VirES token. You can visit https://vires.services/ to get yours, and then add it into the next cell."
   ]
  },
  {
   "cell_type": "code",
   "execution_count": 3,
   "metadata": {
    "ExecuteTime": {
     "end_time": "2021-02-16T17:42:46.799356Z",
     "start_time": "2021-02-16T17:42:36.762546Z"
    },
    "scrolled": true
   },
   "outputs": [
    {
     "data": {
      "text/html": [
       "Setting access token for https://vires.services/ows...<br>Generate a token at <a href=\"https://vires.services/accounts/tokens/\">https://vires.services/accounts/tokens/</a>"
      ]
     },
     "metadata": {},
     "output_type": "display_data"
    },
    {
     "name": "stdout",
     "output_type": "stream",
     "text": [
      "Token saved for https://vires.services/ows\n"
     ]
    }
   ],
   "source": [
    "set_token(\"https://vires.services/ows\", set_default=True)"
   ]
  },
  {
   "cell_type": "markdown",
   "metadata": {},
   "source": [
    "## Reading the GPS track\n",
    "\n",
    "The following steps will load the GPS track from a csv file, and set some requirements before download the data from Swarm.\n",
    "Importing the GPS track. You can note that there is a folder to store the CSV file. Using `os.getcwd()` you can validate where the file is located."
   ]
  },
  {
   "cell_type": "code",
   "execution_count": null,
   "metadata": {
    "ExecuteTime": {
     "end_time": "2021-02-16T17:43:35.904927Z",
     "start_time": "2021-02-16T17:42:49.618764Z"
    },
    "scrolled": true
   },
   "outputs": [],
   "source": [
    "#Make sure the csv file of your trackectory is stored in the Data folder.\n",
    "#Enter the name of your GPS track csv file including the extension .csv  and press Enter (e.g. BirdGPSTrajectory.csv)\n",
    "os.chdir(r\"./data\")\n",
    "gpsfilename=input(\"What is the name of your .csv file?: \") # i.e BirdGPSTrajectory.csv\n",
    "Lat=input(\"Enter the name of your Latitude column?: \") #i.e location-lat\n",
    "Long=input(\"Enter the name of your Longitud column?: \") # i.e location-long\n",
    "DateTime=input(\"Enter the date and time column name?: \") # i.e timestamp\n",
    "altitude = input(\"Enter the Altitude column name?, if you don't have the altitude column, just press Enter: \") \n",
    "# i.e height (Only in KM)\n",
    "#If your csv track file doesnt not have any altitude attribute, MagGeo will use sea level as your altitude (i.e. 0 Km)."
   ]
  },
  {
   "cell_type": "code",
   "execution_count": 8,
   "metadata": {},
   "outputs": [],
   "source": [
    "os.chdir(r\"../data\")\n",
    "gpsfilename= \"BirdGPSTrajectoryTest.csv\"\n",
    "Lat=\"location-lat\"\n",
    "Long=\"location-long\"\n",
    "DateTime=\"timestamp\"\n",
    "altitude = \"height\""
   ]
  },
  {
   "cell_type": "code",
   "execution_count": 9,
   "metadata": {
    "ExecuteTime": {
     "end_time": "2021-02-16T17:43:39.125284Z",
     "start_time": "2021-02-16T17:43:38.434278Z"
    },
    "scrolled": true
   },
   "outputs": [
    {
     "data": {
      "text/html": [
       "<div>\n",
       "<style scoped>\n",
       "    .dataframe tbody tr th:only-of-type {\n",
       "        vertical-align: middle;\n",
       "    }\n",
       "\n",
       "    .dataframe tbody tr th {\n",
       "        vertical-align: top;\n",
       "    }\n",
       "\n",
       "    .dataframe thead th {\n",
       "        text-align: right;\n",
       "    }\n",
       "</style>\n",
       "<table border=\"1\" class=\"dataframe\">\n",
       "  <thead>\n",
       "    <tr style=\"text-align: right;\">\n",
       "      <th></th>\n",
       "      <th>gpsDateTime</th>\n",
       "      <th>gpsLong</th>\n",
       "      <th>gpsLat</th>\n",
       "      <th>gpsAltitude</th>\n",
       "      <th>epoch</th>\n",
       "      <th>dates</th>\n",
       "      <th>times</th>\n",
       "    </tr>\n",
       "  </thead>\n",
       "  <tbody>\n",
       "    <tr>\n",
       "      <th>0</th>\n",
       "      <td>2014-09-08 05:54:00</td>\n",
       "      <td>68.307333</td>\n",
       "      <td>70.854717</td>\n",
       "      <td>0.000</td>\n",
       "      <td>1410155640</td>\n",
       "      <td>2014-09-08</td>\n",
       "      <td>05:54:00</td>\n",
       "    </tr>\n",
       "    <tr>\n",
       "      <th>1</th>\n",
       "      <td>2014-09-08 06:10:00</td>\n",
       "      <td>67.975050</td>\n",
       "      <td>70.830300</td>\n",
       "      <td>0.406</td>\n",
       "      <td>1410156600</td>\n",
       "      <td>2014-09-08</td>\n",
       "      <td>06:10:00</td>\n",
       "    </tr>\n",
       "    <tr>\n",
       "      <th>2</th>\n",
       "      <td>2014-09-08 06:26:00</td>\n",
       "      <td>67.752417</td>\n",
       "      <td>70.761717</td>\n",
       "      <td>0.498</td>\n",
       "      <td>1410157560</td>\n",
       "      <td>2014-09-08</td>\n",
       "      <td>06:26:00</td>\n",
       "    </tr>\n",
       "    <tr>\n",
       "      <th>3</th>\n",
       "      <td>2014-09-08 06:42:00</td>\n",
       "      <td>67.561983</td>\n",
       "      <td>70.686517</td>\n",
       "      <td>0.787</td>\n",
       "      <td>1410158520</td>\n",
       "      <td>2014-09-08</td>\n",
       "      <td>06:42:00</td>\n",
       "    </tr>\n",
       "    <tr>\n",
       "      <th>4</th>\n",
       "      <td>2014-09-08 07:14:00</td>\n",
       "      <td>67.548317</td>\n",
       "      <td>70.685450</td>\n",
       "      <td>0.337</td>\n",
       "      <td>1410160440</td>\n",
       "      <td>2014-09-08</td>\n",
       "      <td>07:14:00</td>\n",
       "    </tr>\n",
       "    <tr>\n",
       "      <th>...</th>\n",
       "      <td>...</td>\n",
       "      <td>...</td>\n",
       "      <td>...</td>\n",
       "      <td>...</td>\n",
       "      <td>...</td>\n",
       "      <td>...</td>\n",
       "      <td>...</td>\n",
       "    </tr>\n",
       "    <tr>\n",
       "      <th>194</th>\n",
       "      <td>2014-09-27 11:09:00</td>\n",
       "      <td>49.503800</td>\n",
       "      <td>67.735100</td>\n",
       "      <td>0.098</td>\n",
       "      <td>1411816140</td>\n",
       "      <td>2014-09-27</td>\n",
       "      <td>11:09:00</td>\n",
       "    </tr>\n",
       "    <tr>\n",
       "      <th>195</th>\n",
       "      <td>2014-09-27 11:25:00</td>\n",
       "      <td>49.503767</td>\n",
       "      <td>67.735100</td>\n",
       "      <td>0.099</td>\n",
       "      <td>1411817100</td>\n",
       "      <td>2014-09-27</td>\n",
       "      <td>11:25:00</td>\n",
       "    </tr>\n",
       "    <tr>\n",
       "      <th>196</th>\n",
       "      <td>2014-09-27 11:40:00</td>\n",
       "      <td>49.503667</td>\n",
       "      <td>67.735100</td>\n",
       "      <td>0.100</td>\n",
       "      <td>1411818000</td>\n",
       "      <td>2014-09-27</td>\n",
       "      <td>11:40:00</td>\n",
       "    </tr>\n",
       "    <tr>\n",
       "      <th>197</th>\n",
       "      <td>2014-09-27 11:56:00</td>\n",
       "      <td>49.503650</td>\n",
       "      <td>67.735100</td>\n",
       "      <td>0.100</td>\n",
       "      <td>1411818960</td>\n",
       "      <td>2014-09-27</td>\n",
       "      <td>11:56:00</td>\n",
       "    </tr>\n",
       "    <tr>\n",
       "      <th>198</th>\n",
       "      <td>2014-09-27 12:11:00</td>\n",
       "      <td>49.503617</td>\n",
       "      <td>67.735000</td>\n",
       "      <td>0.092</td>\n",
       "      <td>1411819860</td>\n",
       "      <td>2014-09-27</td>\n",
       "      <td>12:11:00</td>\n",
       "    </tr>\n",
       "  </tbody>\n",
       "</table>\n",
       "<p>199 rows × 7 columns</p>\n",
       "</div>"
      ],
      "text/plain": [
       "            gpsDateTime    gpsLong     gpsLat  gpsAltitude       epoch  \\\n",
       "0   2014-09-08 05:54:00  68.307333  70.854717        0.000  1410155640   \n",
       "1   2014-09-08 06:10:00  67.975050  70.830300        0.406  1410156600   \n",
       "2   2014-09-08 06:26:00  67.752417  70.761717        0.498  1410157560   \n",
       "3   2014-09-08 06:42:00  67.561983  70.686517        0.787  1410158520   \n",
       "4   2014-09-08 07:14:00  67.548317  70.685450        0.337  1410160440   \n",
       "..                  ...        ...        ...          ...         ...   \n",
       "194 2014-09-27 11:09:00  49.503800  67.735100        0.098  1411816140   \n",
       "195 2014-09-27 11:25:00  49.503767  67.735100        0.099  1411817100   \n",
       "196 2014-09-27 11:40:00  49.503667  67.735100        0.100  1411818000   \n",
       "197 2014-09-27 11:56:00  49.503650  67.735100        0.100  1411818960   \n",
       "198 2014-09-27 12:11:00  49.503617  67.735000        0.092  1411819860   \n",
       "\n",
       "          dates     times  \n",
       "0    2014-09-08  05:54:00  \n",
       "1    2014-09-08  06:10:00  \n",
       "2    2014-09-08  06:26:00  \n",
       "3    2014-09-08  06:42:00  \n",
       "4    2014-09-08  07:14:00  \n",
       "..          ...       ...  \n",
       "194  2014-09-27  11:09:00  \n",
       "195  2014-09-27  11:25:00  \n",
       "196  2014-09-27  11:40:00  \n",
       "197  2014-09-27  11:56:00  \n",
       "198  2014-09-27  12:11:00  \n",
       "\n",
       "[199 rows x 7 columns]"
      ]
     },
     "execution_count": 9,
     "metadata": {},
     "output_type": "execute_result"
    }
   ],
   "source": [
    "# Here MagGeo is reading your CSV file, taking the Lat, Long, Date&Time and Altitutes attributes and compute, some aditional attrubutes we need to the annotation process.\n",
    "# Setting the date and time attributes for the required format and computing the epoch column. Values like Maximum and Minimun Date and time are also calculated.\n",
    "GPSData = getGPSData(gpsfilename,Lat,Long,DateTime,altitude)\n",
    "os.chdir(r\"../\")\n",
    "GPSData"
   ]
  },
  {
   "cell_type": "markdown",
   "metadata": {},
   "source": [
    "Setting the date and time attributes for the requerided format and computing the epoch column. Values like Maximum and Minimun Date and time are also calculated."
   ]
  },
  {
   "cell_type": "markdown",
   "metadata": {},
   "source": [
    "## Validate the right amount of Swarm measures\n",
    "\n",
    "The following loop is identifiying the time and validating if the time is less than 4:00 hours and more than 20:00 hours to bring one extra day of data. The result of this validation is written in a empty python list which will be later validated to get the unique dates avoing to download data for the same day and reducing the the downloand time process."
   ]
  },
  {
   "cell_type": "code",
   "execution_count": 10,
   "metadata": {
    "ExecuteTime": {
     "end_time": "2021-02-16T17:43:44.061064Z",
     "start_time": "2021-02-16T17:43:43.499777Z"
    },
    "scrolled": true
   },
   "outputs": [
    {
     "name": "stdout",
     "output_type": "stream",
     "text": [
      "CPU times: total: 15.6 ms\n",
      "Wall time: 14 ms\n"
     ]
    }
   ],
   "source": [
    "%%time\n",
    "datestimeslist = []\n",
    "for index, row in GPSData.iterrows():\n",
    "    datetimerow  = row['gpsDateTime']\n",
    "    daterow = row['dates']\n",
    "    hourrow = row['times']\n",
    "    hourrow = hourrow.strftime('%H:%M:%S')\n",
    "    if hourrow < '04:00:00':\n",
    "        date_bfr = daterow - (timedelta(days=1))\n",
    "        datestimeslist.append(daterow)\n",
    "        datestimeslist.append(date_bfr)\n",
    "    if hourrow > '20:00:00':\n",
    "        Date_aft = daterow + (timedelta(days=1))\n",
    "        datestimeslist.append(daterow)\n",
    "        datestimeslist.append(Date_aft)  \n",
    "    else:\n",
    "        datestimeslist.append(daterow)"
   ]
  },
  {
   "cell_type": "markdown",
   "metadata": {},
   "source": [
    "Getting a list of unique dates, to being used to download the Swarm Data"
   ]
  },
  {
   "cell_type": "code",
   "execution_count": 11,
   "metadata": {
    "ExecuteTime": {
     "end_time": "2021-02-15T15:00:45.817921Z",
     "start_time": "2021-02-15T15:00:45.347271Z"
    },
    "scrolled": true
   },
   "outputs": [
    {
     "name": "stdout",
     "output_type": "stream",
     "text": [
      "CPU times: total: 0 ns\n",
      "Wall time: 0 ns\n"
     ]
    },
    {
     "data": {
      "text/plain": [
       "array([datetime.date(2014, 8, 30), datetime.date(2014, 9, 8),\n",
       "       datetime.date(2014, 9, 21), datetime.date(2014, 9, 22),\n",
       "       datetime.date(2014, 9, 27), datetime.date(2014, 9, 30),\n",
       "       datetime.date(2014, 10, 1), datetime.date(2014, 10, 2),\n",
       "       datetime.date(2014, 10, 3), datetime.date(2014, 10, 4)],\n",
       "      dtype=object)"
      ]
     },
     "execution_count": 11,
     "metadata": {},
     "output_type": "execute_result"
    }
   ],
   "source": [
    "%%time\n",
    "def uniquelistdates(list): \n",
    "    x = np.array(list) \n",
    "    uniquelist = np.unique(x)\n",
    "    return uniquelist\n",
    "\n",
    "uniquelist_dates = uniquelistdates(datestimeslist)\n",
    "uniquelist_dates"
   ]
  },
  {
   "cell_type": "markdown",
   "metadata": {},
   "source": [
    "## Download Swarm residuals data\n",
    "\n",
    "Once the date and time columns have been defined, and the unique dates were identified the script can start the download process. Usually the data from Swarm is requested using only one satellite, however **MagGeo** will use the magnetic measures from the three satellite of the Swarm Mission.\n",
    "\n",
    "<div class=\"alert alert-info\" role=\"alert\">\n",
    "📘 <strong>Be aware:</strong> Due to the amount of dates the GPS track has (42 days) to request and compute the residuals, the time to process the sample data will take approximately 10 minutes.</div>\n",
    "\n",
    "Set a connection to the <code>VirES client</code> and using the function <code>Get_Swarm_residuals</code> we will get the swarm residuals for the dates included in the previous list."
   ]
  },
  {
   "cell_type": "code",
   "execution_count": 12,
   "metadata": {
    "ExecuteTime": {
     "end_time": "2021-02-15T15:53:19.599346Z",
     "start_time": "2021-02-15T15:00:50.100366Z"
    },
    "scrolled": true
   },
   "outputs": [
    {
     "name": "stderr",
     "output_type": "stream",
     "text": [
      "Getting Swarm Data:   0%|          | 0/10 [00:00<?, ?it/s]"
     ]
    },
    {
     "name": "stdout",
     "output_type": "stream",
     "text": [
      "Token invalid.\n"
     ]
    },
    {
     "data": {
      "text/html": [
       "Setting access token for https://vires.services/ows...<br>Generate a token at <a href=\"https://vires.services/accounts/tokens/\">https://vires.services/accounts/tokens/</a>"
      ]
     },
     "metadata": {},
     "output_type": "display_data"
    },
    {
     "name": "stdout",
     "output_type": "stream",
     "text": [
      "Token saved for https://vires.services/ows\n",
      "Token invalid.\n"
     ]
    },
    {
     "data": {
      "text/html": [
       "Setting access token for https://vires.services/ows...<br>Generate a token at <a href=\"https://vires.services/accounts/tokens/\">https://vires.services/accounts/tokens/</a>"
      ]
     },
     "metadata": {},
     "output_type": "display_data"
    },
    {
     "name": "stdout",
     "output_type": "stream",
     "text": [
      "Token saved for https://vires.services/ows\n"
     ]
    },
    {
     "name": "stderr",
     "output_type": "stream",
     "text": [
      "Getting Swarm Data: 100%|██████████| 10/10 [03:34<00:00, 21.44s/it]"
     ]
    },
    {
     "name": "stdout",
     "output_type": "stream",
     "text": [
      "CPU times: total: 3.02 s\n",
      "Wall time: 3min 34s\n"
     ]
    },
    {
     "name": "stderr",
     "output_type": "stream",
     "text": [
      "\n"
     ]
    }
   ],
   "source": [
    "%%time\n",
    "\n",
    "hours_t_day = 24\n",
    "hours_added = dt.timedelta(hours = hours_t_day)\n",
    "\n",
    "listdfa = []\n",
    "listdfb = []\n",
    "listdfc = []\n",
    "\n",
    "for d in tqdm(uniquelist_dates, desc=\"Getting Swarm Data\"):\n",
    "    #print(\"Getting Swarm data for date:\",d )\n",
    "    startdate = dt.datetime.combine(d, dt.datetime.min.time())\n",
    "    enddate = startdate + hours_added\n",
    "    SwarmResidualsA,SwarmResidualsB,SwarmResidualsC = Get_Swarm_residuals(startdate, enddate)\n",
    "    listdfa.append(SwarmResidualsA)\n",
    "    listdfb.append(SwarmResidualsB)\n",
    "    listdfc.append(SwarmResidualsC)"
   ]
  },
  {
   "cell_type": "markdown",
   "metadata": {},
   "source": [
    "**Concat the previous results and temporally save the requested data locally:** Integrate the previous list for all dates, into pandas dataframes. We will temporally saved the previous results, in case you need to re-run MagGeo, with the following csv files you will not need to run the download process."
   ]
  },
  {
   "cell_type": "code",
   "execution_count": 1,
   "metadata": {
    "ExecuteTime": {
     "end_time": "2021-02-15T16:03:36.252449Z",
     "start_time": "2021-02-15T16:02:50.568350Z"
    },
    "scrolled": true
   },
   "outputs": [
    {
     "ename": "FileNotFoundError",
     "evalue": "[WinError 2] The system cannot find the file specified: './temp_data'",
     "output_type": "error",
     "traceback": [
      "\u001b[1;31m---------------------------------------------------------------------------\u001b[0m",
      "\u001b[1;31mFileNotFoundError\u001b[0m                         Traceback (most recent call last)",
      "File \u001b[1;32m<timed exec>:1\u001b[0m, in \u001b[0;36m<module>\u001b[1;34m\u001b[0m\n",
      "\u001b[1;31mFileNotFoundError\u001b[0m: [WinError 2] The system cannot find the file specified: './temp_data'"
     ]
    }
   ],
   "source": [
    "%%time\n",
    "os.chdir(r\"./temp_data\")\n",
    "TotalSwarmRes_A = pd.concat(listdfa, join='outer', axis=0)\n",
    "TotalSwarmRes_A.to_csv ('TotalSwarmRes_A.csv', header=True)\n",
    "TotalSwarmRes_B = pd.concat(listdfb, join='outer', axis=0)\n",
    "TotalSwarmRes_B.to_csv ('TotalSwarmRes_B.csv', header=True)\n",
    "TotalSwarmRes_C = pd.concat(listdfc, join='outer', axis=0)\n",
    "TotalSwarmRes_C.to_csv ('TotalSwarmRes_C.csv', header=True)\n",
    "os.chdir(r\"../\")\n",
    "TotalSwarmRes_A #If you need to take a look of the Swarm Data, you can print TotalSwarmRes_B, or TotalSwarmRes_C"
   ]
  },
  {
   "cell_type": "markdown",
   "metadata": {},
   "source": [
    "## Set the number of processes, and split the dataframe (GPSData) into chunks\n",
    "\n",
    "We can set the number or processess we need to dedicate for the multiprocessing mode, of course that also depends on the number of cores the machine you are using to run **MagGeo**. You can use `multiprocessing.cpu_count()` to set the number of processes as the the number of cores your machine has. Beside that we will also to split the GPS track into chucks to dedicate each core for each chuck. For more information take a look at the Home Notebook."
   ]
  },
  {
   "cell_type": "code",
   "execution_count": 10,
   "metadata": {
    "ExecuteTime": {
     "end_time": "2021-02-16T17:43:56.199965Z",
     "start_time": "2021-02-16T17:43:51.667300Z"
    },
    "scrolled": true
   },
   "outputs": [
    {
     "data": {
      "text/plain": [
       "[           gpsDateTime    gpsLong     gpsLat  gpsAltitude       epoch  \\\n",
       " 0  2014-09-08 05:54:00  68.307333  70.854717        0.000  1410155640   \n",
       " 1  2014-09-08 06:10:00  67.975050  70.830300        0.406  1410156600   \n",
       " 2  2014-09-08 06:26:00  67.752417  70.761717        0.498  1410157560   \n",
       " 3  2014-09-08 06:42:00  67.561983  70.686517        0.787  1410158520   \n",
       " 4  2014-09-08 07:14:00  67.548317  70.685450        0.337  1410160440   \n",
       " 5  2014-09-08 07:30:00  67.549433  70.685750        0.026  1410161400   \n",
       " 6  2014-09-08 07:46:00  67.530983  70.690333        0.026  1410162360   \n",
       " 7  2014-09-08 08:03:00  67.506233  70.692683        0.023  1410163380   \n",
       " 8  2014-09-08 08:34:00  67.506167  70.692533        0.022  1410165240   \n",
       " 9  2014-09-08 08:50:00  67.506383  70.692583        0.023  1410166200   \n",
       " 10 2014-09-08 09:37:00  67.501633  70.695017        0.026  1410169020   \n",
       " 11 2014-09-08 09:54:00  67.498917  70.693850        0.026  1410170040   \n",
       " 12 2014-09-08 13:53:00  67.505800  70.692667        0.000  1410184380   \n",
       " \n",
       "          dates     times  \n",
       " 0   2014-09-08  05:54:00  \n",
       " 1   2014-09-08  06:10:00  \n",
       " 2   2014-09-08  06:26:00  \n",
       " 3   2014-09-08  06:42:00  \n",
       " 4   2014-09-08  07:14:00  \n",
       " 5   2014-09-08  07:30:00  \n",
       " 6   2014-09-08  07:46:00  \n",
       " 7   2014-09-08  08:03:00  \n",
       " 8   2014-09-08  08:34:00  \n",
       " 9   2014-09-08  08:50:00  \n",
       " 10  2014-09-08  09:37:00  \n",
       " 11  2014-09-08  09:54:00  \n",
       " 12  2014-09-08  13:53:00  ,\n",
       "            gpsDateTime    gpsLong     gpsLat  gpsAltitude       epoch  \\\n",
       " 13 2014-09-08 14:09:00  67.505883  70.692667        0.034  1410185340   \n",
       " 14 2014-09-08 14:25:00  67.506000  70.692617        0.034  1410186300   \n",
       " 15 2014-09-08 14:41:00  67.505883  70.692750        0.033  1410187260   \n",
       " 16 2014-09-08 15:13:00  67.511617  70.694350        0.036  1410189180   \n",
       " 17 2014-09-08 15:29:00  67.509050  70.693650        0.034  1410190140   \n",
       " 18 2014-09-08 15:45:00  67.511250  70.693467        0.032  1410191100   \n",
       " 19 2014-09-08 16:01:00  67.510000  70.693450        0.033  1410192060   \n",
       " 20 2014-09-08 16:33:00  67.510767  70.693633        0.034  1410193980   \n",
       " 21 2014-09-08 16:49:00  67.509500  70.693583        0.033  1410194940   \n",
       " 22 2014-09-08 17:05:00  67.509750  70.693600        0.033  1410195900   \n",
       " 23 2014-09-08 17:38:00  67.509700  70.693633        0.035  1410197880   \n",
       " 24 2014-09-08 17:53:00  67.509650  70.693650        0.017  1410198780   \n",
       " 25 2014-09-21 12:23:00  49.996717  66.897217        0.019  1411302180   \n",
       " \n",
       "          dates     times  \n",
       " 13  2014-09-08  14:09:00  \n",
       " 14  2014-09-08  14:25:00  \n",
       " 15  2014-09-08  14:41:00  \n",
       " 16  2014-09-08  15:13:00  \n",
       " 17  2014-09-08  15:29:00  \n",
       " 18  2014-09-08  15:45:00  \n",
       " 19  2014-09-08  16:01:00  \n",
       " 20  2014-09-08  16:33:00  \n",
       " 21  2014-09-08  16:49:00  \n",
       " 22  2014-09-08  17:05:00  \n",
       " 23  2014-09-08  17:38:00  \n",
       " 24  2014-09-08  17:53:00  \n",
       " 25  2014-09-21  12:23:00  ,\n",
       "            gpsDateTime    gpsLong     gpsLat  gpsAltitude       epoch  \\\n",
       " 26 2014-09-21 12:55:00  49.997550  66.897567        0.030  1411304100   \n",
       " 27 2014-09-21 13:11:00  49.998683  66.898600        0.000  1411305060   \n",
       " 28 2014-09-21 13:43:00  49.997133  66.898300        0.000  1411306980   \n",
       " 29 2014-09-21 14:00:00  49.997383  66.897600        0.000  1411308000   \n",
       " 30 2014-09-21 14:17:00  49.997467  66.897517        0.000  1411309020   \n",
       " 31 2014-09-21 14:31:00  50.005250  66.895483        0.044  1411309860   \n",
       " 32 2014-09-21 15:03:00  50.040800  66.890583        0.000  1411311780   \n",
       " 33 2014-09-21 15:19:00  50.047867  66.890167        0.000  1411312740   \n",
       " 34 2014-09-21 15:35:00  50.047600  66.890150        0.000  1411313700   \n",
       " 35 2014-09-21 16:07:00  50.047800  66.890183        0.000  1411315620   \n",
       " 36 2014-09-21 16:23:00  49.961467  66.980783        0.000  1411316580   \n",
       " 37 2014-09-22 05:52:00  49.847017  66.960383        0.000  1411365120   \n",
       " 38 2014-09-22 06:08:00  49.846967  66.960450        0.000  1411366080   \n",
       " \n",
       "          dates     times  \n",
       " 26  2014-09-21  12:55:00  \n",
       " 27  2014-09-21  13:11:00  \n",
       " 28  2014-09-21  13:43:00  \n",
       " 29  2014-09-21  14:00:00  \n",
       " 30  2014-09-21  14:17:00  \n",
       " 31  2014-09-21  14:31:00  \n",
       " 32  2014-09-21  15:03:00  \n",
       " 33  2014-09-21  15:19:00  \n",
       " 34  2014-09-21  15:35:00  \n",
       " 35  2014-09-21  16:07:00  \n",
       " 36  2014-09-21  16:23:00  \n",
       " 37  2014-09-22  05:52:00  \n",
       " 38  2014-09-22  06:08:00  ,\n",
       "            gpsDateTime    gpsLong     gpsLat  gpsAltitude       epoch  \\\n",
       " 39 2014-09-22 06:24:00  49.846950  66.960367        0.000  1411367040   \n",
       " 40 2014-09-22 06:40:00  49.847350  66.960383        0.000  1411368000   \n",
       " 41 2014-09-22 07:13:00  49.846850  66.960400        0.000  1411369980   \n",
       " 42 2014-09-22 08:02:00  49.712750  67.096717        0.000  1411372920   \n",
       " 43 2014-09-30 06:35:00  47.120217  66.684717        0.006  1412058900   \n",
       " 44 2014-09-30 06:51:00  46.696433  66.529533        0.000  1412059860   \n",
       " 45 2014-09-30 07:07:00  46.267167  66.378733        0.000  1412060820   \n",
       " 46 2014-09-30 07:23:00  45.813017  66.230733        0.000  1412061780   \n",
       " 47 2014-09-30 08:04:00  44.659750  65.770600        0.000  1412064240   \n",
       " 48 2014-09-30 08:46:00  43.495867  65.287350        0.000  1412066760   \n",
       " 49 2014-09-30 10:10:00  41.314500  64.129950        0.000  1412071800   \n",
       " 50 2014-09-30 10:26:00  40.957017  63.896433        0.000  1412072760   \n",
       " 51 2014-09-30 11:04:00  40.313267  63.317133        0.000  1412075040   \n",
       " \n",
       "          dates     times  \n",
       " 39  2014-09-22  06:24:00  \n",
       " 40  2014-09-22  06:40:00  \n",
       " 41  2014-09-22  07:13:00  \n",
       " 42  2014-09-22  08:02:00  \n",
       " 43  2014-09-30  06:35:00  \n",
       " 44  2014-09-30  06:51:00  \n",
       " 45  2014-09-30  07:07:00  \n",
       " 46  2014-09-30  07:23:00  \n",
       " 47  2014-09-30  08:04:00  \n",
       " 48  2014-09-30  08:46:00  \n",
       " 49  2014-09-30  10:10:00  \n",
       " 50  2014-09-30  10:26:00  \n",
       " 51  2014-09-30  11:04:00  ,\n",
       "            gpsDateTime    gpsLong     gpsLat  gpsAltitude       epoch  \\\n",
       " 52 2014-09-30 11:21:00  40.012267  63.049433          0.0  1412076060   \n",
       " 53 2014-09-30 11:53:00  39.520267  62.547750          0.0  1412077980   \n",
       " 54 2014-09-30 12:09:00  39.286400  62.327483          0.0  1412078940   \n",
       " 55 2014-09-30 16:27:00  35.165983  59.422467          0.0  1412094420   \n",
       " 56 2014-09-30 16:59:00  34.759200  58.980250          0.0  1412096340   \n",
       " 57 2014-09-30 17:15:00  34.471817  58.817917          0.0  1412097300   \n",
       " 58 2014-09-30 17:47:00  34.448300  58.827933          0.0  1412099220   \n",
       " 59 2014-09-30 18:04:00  34.448467  58.826017          0.0  1412100240   \n",
       " 60 2014-09-30 18:20:00  34.435233  58.819850          0.0  1412101200   \n",
       " 61 2014-09-30 18:35:00  34.201167  58.727250          0.0  1412102100   \n",
       " 62 2014-09-30 19:08:00  33.569233  58.405500          0.0  1412104080   \n",
       " 63 2014-09-30 19:24:00  33.236700  58.241183          0.0  1412105040   \n",
       " 64 2014-09-30 19:40:00  33.014350  58.041567          0.0  1412106000   \n",
       " \n",
       "          dates     times  \n",
       " 52  2014-09-30  11:21:00  \n",
       " 53  2014-09-30  11:53:00  \n",
       " 54  2014-09-30  12:09:00  \n",
       " 55  2014-09-30  16:27:00  \n",
       " 56  2014-09-30  16:59:00  \n",
       " 57  2014-09-30  17:15:00  \n",
       " 58  2014-09-30  17:47:00  \n",
       " 59  2014-09-30  18:04:00  \n",
       " 60  2014-09-30  18:20:00  \n",
       " 61  2014-09-30  18:35:00  \n",
       " 62  2014-09-30  19:08:00  \n",
       " 63  2014-09-30  19:24:00  \n",
       " 64  2014-09-30  19:40:00  ,\n",
       "            gpsDateTime    gpsLong     gpsLat  gpsAltitude       epoch  \\\n",
       " 65 2014-09-30 19:56:00  32.698767  57.913150        0.000  1412106960   \n",
       " 66 2014-09-30 20:12:00  32.470350  57.709567        0.003  1412107920   \n",
       " 67 2014-09-30 20:28:00  32.223617  57.567683        0.002  1412108880   \n",
       " 68 2014-10-01 00:29:00  31.970950  57.454033        0.000  1412123340   \n",
       " 69 2014-10-01 00:44:00  31.971250  57.453767        0.000  1412124240   \n",
       " 70 2014-10-01 01:00:00  31.971667  57.453667        0.037  1412125200   \n",
       " 71 2014-10-01 02:42:00  31.894067  57.427383        0.038  1412131320   \n",
       " 72 2014-10-01 02:59:00  31.669200  57.321483        0.128  1412132340   \n",
       " 73 2014-10-01 03:14:00  31.446667  57.195767        0.135  1412133240   \n",
       " 74 2014-10-01 05:05:00  29.696600  56.703217        0.131  1412139900   \n",
       " 75 2014-10-01 06:19:00  28.411983  56.252417        0.127  1412144340   \n",
       " 76 2014-10-01 06:35:00  28.150767  56.085417        0.132  1412145300   \n",
       " 77 2014-10-01 07:23:00  27.264867  55.628233        0.132  1412148180   \n",
       " \n",
       "          dates     times  \n",
       " 65  2014-09-30  19:56:00  \n",
       " 66  2014-09-30  20:12:00  \n",
       " 67  2014-09-30  20:28:00  \n",
       " 68  2014-10-01  00:29:00  \n",
       " 69  2014-10-01  00:44:00  \n",
       " 70  2014-10-01  01:00:00  \n",
       " 71  2014-10-01  02:42:00  \n",
       " 72  2014-10-01  02:59:00  \n",
       " 73  2014-10-01  03:14:00  \n",
       " 74  2014-10-01  05:05:00  \n",
       " 75  2014-10-01  06:19:00  \n",
       " 76  2014-10-01  06:35:00  \n",
       " 77  2014-10-01  07:23:00  ,\n",
       "            gpsDateTime    gpsLong     gpsLat  gpsAltitude       epoch  \\\n",
       " 78 2014-10-01 07:40:00  26.967033  55.513917        0.132  1412149200   \n",
       " 79 2014-10-01 07:56:00  26.703400  55.396383        0.131  1412150160   \n",
       " 80 2014-10-01 11:42:00  22.913617  53.929300        0.129  1412163720   \n",
       " 81 2014-10-01 12:13:00  22.347700  53.795100        0.131  1412165580   \n",
       " 82 2014-10-01 12:29:00  22.068817  53.726433        0.129  1412166540   \n",
       " 83 2014-10-01 13:02:00  21.519500  53.613633        0.000  1412168520   \n",
       " 84 2014-10-01 13:18:00  21.238517  53.580000        0.142  1412169480   \n",
       " 85 2014-10-01 13:34:00  20.974200  53.522383        0.137  1412170440   \n",
       " 86 2014-10-01 13:50:00  20.682200  53.486600        0.136  1412171400   \n",
       " 87 2014-10-01 14:22:00  20.148067  53.381400        0.000  1412173320   \n",
       " 88 2014-10-01 14:38:00  19.858717  53.353933        0.134  1412174280   \n",
       " 89 2014-10-01 14:54:00  19.568867  53.324533        0.149  1412175240   \n",
       " 90 2014-10-01 15:26:00  18.964567  53.259633        0.145  1412177160   \n",
       " \n",
       "          dates     times  \n",
       " 78  2014-10-01  07:40:00  \n",
       " 79  2014-10-01  07:56:00  \n",
       " 80  2014-10-01  11:42:00  \n",
       " 81  2014-10-01  12:13:00  \n",
       " 82  2014-10-01  12:29:00  \n",
       " 83  2014-10-01  13:02:00  \n",
       " 84  2014-10-01  13:18:00  \n",
       " 85  2014-10-01  13:34:00  \n",
       " 86  2014-10-01  13:50:00  \n",
       " 87  2014-10-01  14:22:00  \n",
       " 88  2014-10-01  14:38:00  \n",
       " 89  2014-10-01  14:54:00  \n",
       " 90  2014-10-01  15:26:00  ,\n",
       "             gpsDateTime    gpsLong     gpsLat  gpsAltitude       epoch  \\\n",
       " 91  2014-10-01 15:42:00  18.664850  53.268217        0.145  1412178120   \n",
       " 92  2014-10-01 19:42:00  16.177583  53.797867        0.143  1412192520   \n",
       " 93  2014-10-01 19:57:00  16.178717  53.798633        0.136  1412193420   \n",
       " 94  2014-10-01 20:13:00  16.179067  53.798667        0.135  1412194380   \n",
       " 95  2014-10-01 20:30:00  16.179150  53.798850        0.133  1412195400   \n",
       " 96  2014-10-01 21:02:00  16.178950  53.798350        0.134  1412197320   \n",
       " 97  2014-10-01 21:18:00  16.178817  53.798350        0.146  1412198280   \n",
       " 98  2014-10-01 21:34:00  16.179200  53.798467        0.124  1412199240   \n",
       " 99  2014-10-01 21:50:00  16.178483  53.798617        0.117  1412200200   \n",
       " 100 2014-10-01 22:22:00  16.179033  53.798367        0.118  1412202120   \n",
       " 101 2014-10-01 22:38:00  16.178983  53.797933        0.119  1412203080   \n",
       " 102 2014-10-01 23:10:00  16.178733  53.798333        0.118  1412205000   \n",
       " \n",
       "           dates     times  \n",
       " 91   2014-10-01  15:42:00  \n",
       " 92   2014-10-01  19:42:00  \n",
       " 93   2014-10-01  19:57:00  \n",
       " 94   2014-10-01  20:13:00  \n",
       " 95   2014-10-01  20:30:00  \n",
       " 96   2014-10-01  21:02:00  \n",
       " 97   2014-10-01  21:18:00  \n",
       " 98   2014-10-01  21:34:00  \n",
       " 99   2014-10-01  21:50:00  \n",
       " 100  2014-10-01  22:22:00  \n",
       " 101  2014-10-01  22:38:00  \n",
       " 102  2014-10-01  23:10:00  ,\n",
       "             gpsDateTime    gpsLong     gpsLat  gpsAltitude       epoch  \\\n",
       " 103 2014-10-01 23:26:00  16.178650  53.798483        0.126  1412205960   \n",
       " 104 2014-10-01 23:42:00  16.179417  53.798400        0.129  1412206920   \n",
       " 105 2014-10-01 23:58:00  16.179233  53.798633        0.107  1412207880   \n",
       " 106 2014-10-02 03:42:00  16.179567  53.795533        0.108  1412221320   \n",
       " 107 2014-10-02 04:14:00  16.161283  53.889767        0.109  1412223240   \n",
       " 108 2014-10-02 05:02:00  15.977883  54.208517        0.913  1412226120   \n",
       " 109 2014-10-02 05:18:00  15.791683  54.210117        0.823  1412227080   \n",
       " 110 2014-10-02 05:35:00  15.640317  54.180867        0.010  1412228100   \n",
       " 111 2014-10-02 05:51:00  15.502350  54.150750        0.005  1412229060   \n",
       " 112 2014-10-02 06:22:00  15.502000  54.150600        0.009  1412230920   \n",
       " 113 2014-10-02 06:38:00  15.500733  54.145917        0.000  1412231880   \n",
       " 114 2014-10-02 07:26:00  15.500717  54.146000        0.000  1412234760   \n",
       " \n",
       "           dates     times  \n",
       " 103  2014-10-01  23:26:00  \n",
       " 104  2014-10-01  23:42:00  \n",
       " 105  2014-10-01  23:58:00  \n",
       " 106  2014-10-02  03:42:00  \n",
       " 107  2014-10-02  04:14:00  \n",
       " 108  2014-10-02  05:02:00  \n",
       " 109  2014-10-02  05:18:00  \n",
       " 110  2014-10-02  05:35:00  \n",
       " 111  2014-10-02  05:51:00  \n",
       " 112  2014-10-02  06:22:00  \n",
       " 113  2014-10-02  06:38:00  \n",
       " 114  2014-10-02  07:26:00  ,\n",
       "             gpsDateTime    gpsLong     gpsLat  gpsAltitude       epoch  \\\n",
       " 115 2014-10-02 07:43:00  15.499767  54.145750        0.000  1412235780   \n",
       " 116 2014-10-02 11:43:00  15.236950  54.089233        0.000  1412250180   \n",
       " 117 2014-10-02 11:59:00  15.236767  54.089383        0.003  1412251140   \n",
       " 118 2014-10-02 12:15:00  15.236850  54.089300        0.005  1412252100   \n",
       " 119 2014-10-02 12:31:00  15.236900  54.089283        0.381  1412253060   \n",
       " 120 2014-10-02 13:04:00  15.236850  54.089267        0.928  1412255040   \n",
       " 121 2014-10-02 13:20:00  15.236750  54.089433        0.337  1412256000   \n",
       " 122 2014-10-02 13:36:00  15.236067  54.090017        0.267  1412256960   \n",
       " 123 2014-10-02 13:52:00  15.236983  54.089300        0.357  1412257920   \n",
       " 124 2014-10-02 14:24:00  15.237417  54.089350        0.140  1412259840   \n",
       " 125 2014-10-02 14:41:00  15.236900  54.089200        0.315  1412260860   \n",
       " 126 2014-10-02 14:57:00  15.237067  54.089250        0.132  1412261820   \n",
       " \n",
       "           dates     times  \n",
       " 115  2014-10-02  07:43:00  \n",
       " 116  2014-10-02  11:43:00  \n",
       " 117  2014-10-02  11:59:00  \n",
       " 118  2014-10-02  12:15:00  \n",
       " 119  2014-10-02  12:31:00  \n",
       " 120  2014-10-02  13:04:00  \n",
       " 121  2014-10-02  13:20:00  \n",
       " 122  2014-10-02  13:36:00  \n",
       " 123  2014-10-02  13:52:00  \n",
       " 124  2014-10-02  14:24:00  \n",
       " 125  2014-10-02  14:41:00  \n",
       " 126  2014-10-02  14:57:00  ,\n",
       "             gpsDateTime    gpsLong     gpsLat  gpsAltitude       epoch  \\\n",
       " 127 2014-10-02 15:29:00  15.236800  54.088833        0.136  1412263740   \n",
       " 128 2014-10-02 15:45:00  15.237250  54.090200        0.133  1412264700   \n",
       " 129 2014-10-02 19:45:00  15.111483  54.130650        0.133  1412279100   \n",
       " 130 2014-10-02 20:01:00  15.111733  54.131350        0.130  1412280060   \n",
       " 131 2014-10-02 20:17:00  15.111050  54.132650        0.133  1412281020   \n",
       " 132 2014-10-02 20:34:00  15.109267  54.131633        0.133  1412282040   \n",
       " 133 2014-10-02 21:06:00  15.107017  54.133217        0.132  1412283960   \n",
       " 134 2014-10-02 21:22:00  15.106033  54.133567        0.128  1412284920   \n",
       " 135 2014-10-02 21:38:00  15.103083  54.134050        0.124  1412285880   \n",
       " 136 2014-10-02 21:54:00  15.101467  54.133400        0.129  1412286840   \n",
       " 137 2014-10-02 22:26:00  15.096867  54.132917        0.132  1412288760   \n",
       " 138 2014-10-02 22:42:00  15.093067  54.133083        0.130  1412289720   \n",
       " \n",
       "           dates     times  \n",
       " 127  2014-10-02  15:29:00  \n",
       " 128  2014-10-02  15:45:00  \n",
       " 129  2014-10-02  19:45:00  \n",
       " 130  2014-10-02  20:01:00  \n",
       " 131  2014-10-02  20:17:00  \n",
       " 132  2014-10-02  20:34:00  \n",
       " 133  2014-10-02  21:06:00  \n",
       " 134  2014-10-02  21:22:00  \n",
       " 135  2014-10-02  21:38:00  \n",
       " 136  2014-10-02  21:54:00  \n",
       " 137  2014-10-02  22:26:00  \n",
       " 138  2014-10-02  22:42:00  ,\n",
       "             gpsDateTime    gpsLong     gpsLat  gpsAltitude       epoch  \\\n",
       " 139 2014-10-02 23:30:00  15.093517  54.138450        0.130  1412292600   \n",
       " 140 2014-10-02 23:46:00  15.094350  54.139350        0.133  1412293560   \n",
       " 141 2014-10-03 03:47:00  15.093983  54.146717        0.128  1412308020   \n",
       " 142 2014-10-03 04:03:00  15.095067  54.147683        0.134  1412308980   \n",
       " 143 2014-10-03 04:19:00  15.098000  54.149517        0.128  1412309940   \n",
       " 144 2014-10-03 04:35:00  15.104433  54.147617        0.119  1412310900   \n",
       " 145 2014-10-03 05:23:00  15.152317  54.096800        0.121  1412313780   \n",
       " 146 2014-10-03 05:39:00  15.190917  54.093067        0.132  1412314740   \n",
       " 147 2014-10-03 05:55:00  15.197550  54.096967        0.133  1412315700   \n",
       " 148 2014-10-03 06:27:00  15.243367  54.089450        0.135  1412317620   \n",
       " 149 2014-10-03 06:43:00  15.243600  54.089300        0.135  1412318580   \n",
       " 150 2014-10-03 06:59:00  15.244167  54.089067        0.133  1412319540   \n",
       " \n",
       "           dates     times  \n",
       " 139  2014-10-02  23:30:00  \n",
       " 140  2014-10-02  23:46:00  \n",
       " 141  2014-10-03  03:47:00  \n",
       " 142  2014-10-03  04:03:00  \n",
       " 143  2014-10-03  04:19:00  \n",
       " 144  2014-10-03  04:35:00  \n",
       " 145  2014-10-03  05:23:00  \n",
       " 146  2014-10-03  05:39:00  \n",
       " 147  2014-10-03  05:55:00  \n",
       " 148  2014-10-03  06:27:00  \n",
       " 149  2014-10-03  06:43:00  \n",
       " 150  2014-10-03  06:59:00  ,\n",
       "             gpsDateTime    gpsLong     gpsLat  gpsAltitude       epoch  \\\n",
       " 151 2014-10-03 07:15:00  15.244133  54.089417        0.133  1412320500   \n",
       " 152 2014-10-03 07:33:00  15.244200  54.089733        0.133  1412321580   \n",
       " 153 2014-10-03 07:47:00  15.243783  54.089867        0.130  1412322420   \n",
       " 154 2014-10-03 11:49:00  15.238017  54.089583        0.136  1412336940   \n",
       " 155 2014-10-03 12:05:00  15.238167  54.089050        0.158  1412337900   \n",
       " 156 2014-10-03 12:22:00  15.238100  54.088700        0.158  1412338920   \n",
       " 157 2014-10-03 12:37:00  15.236933  54.088900        0.160  1412339820   \n",
       " 158 2014-10-03 13:10:00  15.237350  54.089000        0.162  1412341800   \n",
       " 159 2014-10-03 13:26:00  15.237433  54.089017        0.109  1412342760   \n",
       " 160 2014-10-03 13:42:00  15.237433  54.088983        0.099  1412343720   \n",
       " 161 2014-10-03 13:58:00  15.237433  54.088983        0.106  1412344680   \n",
       " 162 2014-10-03 14:30:00  15.236800  54.088517        0.101  1412346600   \n",
       " \n",
       "           dates     times  \n",
       " 151  2014-10-03  07:15:00  \n",
       " 152  2014-10-03  07:33:00  \n",
       " 153  2014-10-03  07:47:00  \n",
       " 154  2014-10-03  11:49:00  \n",
       " 155  2014-10-03  12:05:00  \n",
       " 156  2014-10-03  12:22:00  \n",
       " 157  2014-10-03  12:37:00  \n",
       " 158  2014-10-03  13:10:00  \n",
       " 159  2014-10-03  13:26:00  \n",
       " 160  2014-10-03  13:42:00  \n",
       " 161  2014-10-03  13:58:00  \n",
       " 162  2014-10-03  14:30:00  ,\n",
       "             gpsDateTime    gpsLong     gpsLat  gpsAltitude       epoch  \\\n",
       " 163 2014-10-03 14:47:00  15.236733  54.088233        0.105  1412347620   \n",
       " 164 2014-10-03 15:35:00  15.237633  54.088950        0.101  1412350500   \n",
       " 165 2014-10-03 15:51:00  15.243483  54.091083        0.108  1412351460   \n",
       " 166 2014-10-03 19:52:00  14.787900  54.018417        0.103  1412365920   \n",
       " 167 2014-10-03 20:08:00  14.787250  54.018517        0.104  1412366880   \n",
       " 168 2014-10-03 20:24:00  14.786450  54.018783        0.101  1412367840   \n",
       " 169 2014-10-03 20:40:00  14.785433  54.019250        0.113  1412368800   \n",
       " 170 2014-10-03 21:28:00  14.784967  54.019617        0.127  1412371680   \n",
       " 171 2014-10-03 21:44:00  14.786017  54.018650        0.123  1412372640   \n",
       " 172 2014-10-03 22:00:00  14.785600  54.018983        0.123  1412373600   \n",
       " 173 2014-10-03 22:32:00  14.784983  54.020017        0.104  1412375520   \n",
       " 174 2014-10-03 22:48:00  14.785433  54.020367        0.099  1412376480   \n",
       " \n",
       "           dates     times  \n",
       " 163  2014-10-03  14:47:00  \n",
       " 164  2014-10-03  15:35:00  \n",
       " 165  2014-10-03  15:51:00  \n",
       " 166  2014-10-03  19:52:00  \n",
       " 167  2014-10-03  20:08:00  \n",
       " 168  2014-10-03  20:24:00  \n",
       " 169  2014-10-03  20:40:00  \n",
       " 170  2014-10-03  21:28:00  \n",
       " 171  2014-10-03  21:44:00  \n",
       " 172  2014-10-03  22:00:00  \n",
       " 173  2014-10-03  22:32:00  \n",
       " 174  2014-10-03  22:48:00  ,\n",
       "             gpsDateTime    gpsLong     gpsLat  gpsAltitude       epoch  \\\n",
       " 175 2014-10-03 23:04:00  14.785533  54.020600        0.099  1412377440   \n",
       " 176 2014-10-03 23:20:00  14.785650  54.021083        0.098  1412378400   \n",
       " 177 2014-10-03 23:36:00  14.785433  54.021517        0.098  1412379360   \n",
       " 178 2014-10-03 23:52:00  14.785767  54.021817        0.103  1412380320   \n",
       " 179 2014-10-04 03:53:00  14.778733  54.025167        0.103  1412394780   \n",
       " 180 2014-10-04 04:09:00  14.778000  54.025550        0.104  1412395740   \n",
       " 181 2014-10-04 04:25:00  14.777683  54.025383        0.096  1412396700   \n",
       " 182 2014-10-04 04:41:00  14.778167  54.025033        0.104  1412397660   \n",
       " 183 2014-10-04 05:29:00  14.780733  53.994583        0.099  1412400540   \n",
       " 184 2014-10-04 05:45:00  14.780900  53.994617        0.098  1412401500   \n",
       " 185 2014-10-04 06:01:00  14.780883  53.994533        0.099  1412402460   \n",
       " 186 2014-10-04 06:33:00  14.780950  53.994300        0.098  1412404380   \n",
       " \n",
       "           dates     times  \n",
       " 175  2014-10-03  23:04:00  \n",
       " 176  2014-10-03  23:20:00  \n",
       " 177  2014-10-03  23:36:00  \n",
       " 178  2014-10-03  23:52:00  \n",
       " 179  2014-10-04  03:53:00  \n",
       " 180  2014-10-04  04:09:00  \n",
       " 181  2014-10-04  04:25:00  \n",
       " 182  2014-10-04  04:41:00  \n",
       " 183  2014-10-04  05:29:00  \n",
       " 184  2014-10-04  05:45:00  \n",
       " 185  2014-10-04  06:01:00  \n",
       " 186  2014-10-04  06:33:00  ,\n",
       "             gpsDateTime    gpsLong     gpsLat  gpsAltitude       epoch  \\\n",
       " 187 2014-10-04 06:49:00  14.780833  53.994033        0.103  1412405340   \n",
       " 188 2014-10-04 07:38:00  14.778800  53.993117        0.103  1412408280   \n",
       " 189 2014-10-04 07:53:00  14.718333  53.959217        0.103  1412409180   \n",
       " 190 2014-08-30 12:39:00  75.312300  71.454100        0.101  1409402340   \n",
       " 191 2014-08-30 14:42:00  75.347050  71.463450        0.102  1409409720   \n",
       " 192 2014-08-30 18:49:00  75.379600  71.457583        0.103  1409424540   \n",
       " 193 2014-09-27 10:54:00  49.504100  67.734967        0.100  1411815240   \n",
       " 194 2014-09-27 11:09:00  49.503800  67.735100        0.098  1411816140   \n",
       " 195 2014-09-27 11:25:00  49.503767  67.735100        0.099  1411817100   \n",
       " 196 2014-09-27 11:40:00  49.503667  67.735100        0.100  1411818000   \n",
       " 197 2014-09-27 11:56:00  49.503650  67.735100        0.100  1411818960   \n",
       " 198 2014-09-27 12:11:00  49.503617  67.735000        0.092  1411819860   \n",
       " \n",
       "           dates     times  \n",
       " 187  2014-10-04  06:49:00  \n",
       " 188  2014-10-04  07:38:00  \n",
       " 189  2014-10-04  07:53:00  \n",
       " 190  2014-08-30  12:39:00  \n",
       " 191  2014-08-30  14:42:00  \n",
       " 192  2014-08-30  18:49:00  \n",
       " 193  2014-09-27  10:54:00  \n",
       " 194  2014-09-27  11:09:00  \n",
       " 195  2014-09-27  11:25:00  \n",
       " 196  2014-09-27  11:40:00  \n",
       " 197  2014-09-27  11:56:00  \n",
       " 198  2014-09-27  12:11:00  ]"
      ]
     },
     "execution_count": 10,
     "metadata": {},
     "output_type": "execute_result"
    }
   ],
   "source": [
    "import multiprocessing\n",
    "import sklearn\n",
    "from multiprocessing import Pool\n",
    "\n",
    "NumCores = multiprocessing.cpu_count()\n",
    "df_chunks = np.array_split(GPSData,NumCores)\n",
    "df_chunks"
   ]
  },
  {
   "cell_type": "markdown",
   "metadata": {},
   "source": [
    "## Spatio-Temporal filter and Interpolation process (ST-IDW) \n",
    "\n",
    "Once we have requested the swarm data, now we need to `filter` in space and time the available points to compute the magnetic values (NEC frame) for each GPS point based on its particular date and time. The function <code>ST_IDW_Process</code> imported in the <code>row_handler</code>, takes the GPS track and the downloaded data from swarm to filter in space and time based on the criteria defined in our method. With the swarm data filtered we interpolated (IDW) the NEC components for each GPS data point, based on the latitude, date, time and number of Swarm points filtered.\n",
    "\n",
    "The function <code>CHAOS_ground_values</code>, inside the <code>MagGeoFunctions</code> file, is used to run the **Calculation of magnetic components**. This calculation requeries the magnetic components at the trajectory altitude (or at the ground level) using CHAOS (theta, phi, radial). This process include a rotation and transformation between a geocentric frame (CHAOS) and geodetic frame (GPS track). Once the corrected values are calculated, are included in the GPS track, and the non-necesary columns are removed. For more information about this process go to the Main Notebook.\n"
   ]
  },
  {
   "cell_type": "markdown",
   "metadata": {},
   "source": [
    "### Run the  (ST-IDW) process in parallel mode\n",
    "\n",
    "Although the next cell seems to run a small `main` function.  What is happening is a call for several functions running at same time for several cores. Initially we set a pool of processes. Using the `pool` class we will distribute the assigned function among the data chucks we created. Every data chunk will be like a subset of the entire GPS track. So we need to iterate among data chunk. And inside every data chunk we need to identify the `datetime`, `epoch`, `altitude`, `latitude` and `longitude` of each row to run the interpolation & annotation process using the Swarm data we have filtered and stored in the previous steps.\n",
    "\n",
    "The function in charge to distribute the required function (`row_handler`) among the data chunks is the map function from the `pool` class. \n",
    "\n",
    "`row_handler.py` is an interows iteration to get the required parameter for the `ST_IDW_Process` function. \n",
    "\n",
    "<div class=\"alert alert-info\" role=\"alert\">\n",
    "<strong>📘 Auxiliary Functions:</strong>\n",
    " \n",
    "<ol>\n",
    "  <li><strong>ST_IDW_Process</strong> function: This is the main function in charge to read the Swarm Data already filtered, and then import  <code>DfTime_func</code>,  <code>distance_to_GPS</code>, <code>Kradius</code> , <code>DistJ</code> functions to compute the spatial-time cylinder and the annotation process. The return of this function is a row (dictionary) that will be appended into a python list where all the results from the different cores. The python list from every process is concatenated into a pandas dataframe in the <code>main</code> function having there the whole chain of the parallel process.</li>\n",
    "  <li><strong>distance_to_GPS</strong> function: Is the function in charge to calculate the distance between each GPS Point and the Swarm Point.</li>\n",
    "  <li><strong>Kradius</strong> function: Is the function in charge to compute the R (radius) value in the cylinder. The R value will be considered based on the latitude of each GPS Point.</li>\n",
    "    <li><strong>DistJ</strong> function: This function will calculate the <code>d</code> value as the hypotenuse created in the triangle created amount the locations of the GPS point, the location of the Swarm points and the radius value.</li>\n",
    "  <li><strong>DfTime_func</strong> function: This is a time function to selected the points in the range of a the DeltaTime - <code>DT</code> window. The Delta time window has been set as 4 hours for each satellite trajectory.</li>\n",
    "  <li><strong>CHAOS_ground_values</strong> function: This is the calculation of geomagnetic components function to get the CHAOS magnetic values and process the Nres,Eres,Cres values and transform them into the N,E,C values at the GPS altitude.</li>\n",
    "</ol> \n",
    "\n",
    "</div>\n"
   ]
  },
  {
   "cell_type": "code",
   "execution_count": 20,
   "metadata": {
    "ExecuteTime": {
     "end_time": "2021-02-16T17:44:53.400911Z",
     "start_time": "2021-02-16T17:44:26.720610Z"
    },
    "scrolled": true
   },
   "outputs": [
    {
     "name": "stderr",
     "output_type": "stream",
     "text": [
      "Process SpawnPoolWorker-161:\n",
      "Traceback (most recent call last):\n",
      "  File \"/Users/fbenitez/opt/anaconda3/lib/python3.8/multiprocessing/process.py\", line 315, in _bootstrap\n",
      "    self.run()\n",
      "  File \"/Users/fbenitez/opt/anaconda3/lib/python3.8/multiprocessing/process.py\", line 108, in run\n",
      "    self._target(*self._args, **self._kwargs)\n",
      "  File \"/Users/fbenitez/opt/anaconda3/lib/python3.8/multiprocessing/pool.py\", line 114, in worker\n",
      "    task = get()\n",
      "  File \"/Users/fbenitez/opt/anaconda3/lib/python3.8/multiprocessing/queues.py\", line 358, in get\n",
      "    return _ForkingPickler.loads(res)\n",
      "ModuleNotFoundError: No module named 'row_handler'\n",
      "Process SpawnPoolWorker-162:\n",
      "Traceback (most recent call last):\n",
      "  File \"/Users/fbenitez/opt/anaconda3/lib/python3.8/multiprocessing/process.py\", line 315, in _bootstrap\n",
      "    self.run()\n",
      "  File \"/Users/fbenitez/opt/anaconda3/lib/python3.8/multiprocessing/process.py\", line 108, in run\n",
      "    self._target(*self._args, **self._kwargs)\n",
      "  File \"/Users/fbenitez/opt/anaconda3/lib/python3.8/multiprocessing/pool.py\", line 114, in worker\n",
      "    task = get()\n",
      "  File \"/Users/fbenitez/opt/anaconda3/lib/python3.8/multiprocessing/queues.py\", line 358, in get\n",
      "    return _ForkingPickler.loads(res)\n",
      "ModuleNotFoundError: No module named 'row_handler'\n",
      "Process SpawnPoolWorker-163:\n",
      "Process SpawnPoolWorker-164:\n",
      "Traceback (most recent call last):\n",
      "  File \"/Users/fbenitez/opt/anaconda3/lib/python3.8/multiprocessing/process.py\", line 315, in _bootstrap\n",
      "    self.run()\n",
      "  File \"/Users/fbenitez/opt/anaconda3/lib/python3.8/multiprocessing/process.py\", line 108, in run\n",
      "    self._target(*self._args, **self._kwargs)\n",
      "  File \"/Users/fbenitez/opt/anaconda3/lib/python3.8/multiprocessing/pool.py\", line 114, in worker\n",
      "    task = get()\n",
      "  File \"/Users/fbenitez/opt/anaconda3/lib/python3.8/multiprocessing/queues.py\", line 358, in get\n",
      "    return _ForkingPickler.loads(res)\n",
      "ModuleNotFoundError: No module named 'row_handler'\n",
      "Traceback (most recent call last):\n",
      "  File \"/Users/fbenitez/opt/anaconda3/lib/python3.8/multiprocessing/process.py\", line 315, in _bootstrap\n",
      "    self.run()\n",
      "  File \"/Users/fbenitez/opt/anaconda3/lib/python3.8/multiprocessing/process.py\", line 108, in run\n",
      "    self._target(*self._args, **self._kwargs)\n",
      "  File \"/Users/fbenitez/opt/anaconda3/lib/python3.8/multiprocessing/pool.py\", line 114, in worker\n",
      "    task = get()\n",
      "  File \"/Users/fbenitez/opt/anaconda3/lib/python3.8/multiprocessing/queues.py\", line 358, in get\n",
      "    return _ForkingPickler.loads(res)\n",
      "ModuleNotFoundError: No module named 'row_handler'\n",
      "Process SpawnPoolWorker-165:\n",
      "Traceback (most recent call last):\n",
      "  File \"/Users/fbenitez/opt/anaconda3/lib/python3.8/multiprocessing/process.py\", line 315, in _bootstrap\n",
      "    self.run()\n",
      "  File \"/Users/fbenitez/opt/anaconda3/lib/python3.8/multiprocessing/process.py\", line 108, in run\n",
      "    self._target(*self._args, **self._kwargs)\n",
      "  File \"/Users/fbenitez/opt/anaconda3/lib/python3.8/multiprocessing/pool.py\", line 114, in worker\n",
      "    task = get()\n",
      "  File \"/Users/fbenitez/opt/anaconda3/lib/python3.8/multiprocessing/queues.py\", line 358, in get\n",
      "    return _ForkingPickler.loads(res)\n",
      "ModuleNotFoundError: No module named 'row_handler'\n",
      "Process SpawnPoolWorker-166:\n",
      "Traceback (most recent call last):\n",
      "  File \"/Users/fbenitez/opt/anaconda3/lib/python3.8/multiprocessing/process.py\", line 315, in _bootstrap\n",
      "    self.run()\n",
      "  File \"/Users/fbenitez/opt/anaconda3/lib/python3.8/multiprocessing/process.py\", line 108, in run\n",
      "    self._target(*self._args, **self._kwargs)\n",
      "  File \"/Users/fbenitez/opt/anaconda3/lib/python3.8/multiprocessing/pool.py\", line 114, in worker\n",
      "    task = get()\n",
      "  File \"/Users/fbenitez/opt/anaconda3/lib/python3.8/multiprocessing/queues.py\", line 358, in get\n",
      "    return _ForkingPickler.loads(res)\n",
      "ModuleNotFoundError: No module named 'row_handler'\n",
      "Process SpawnPoolWorker-167:\n",
      "Traceback (most recent call last):\n",
      "  File \"/Users/fbenitez/opt/anaconda3/lib/python3.8/multiprocessing/process.py\", line 315, in _bootstrap\n",
      "    self.run()\n",
      "  File \"/Users/fbenitez/opt/anaconda3/lib/python3.8/multiprocessing/process.py\", line 108, in run\n",
      "    self._target(*self._args, **self._kwargs)\n",
      "  File \"/Users/fbenitez/opt/anaconda3/lib/python3.8/multiprocessing/pool.py\", line 114, in worker\n",
      "    task = get()\n",
      "  File \"/Users/fbenitez/opt/anaconda3/lib/python3.8/multiprocessing/queues.py\", line 358, in get\n",
      "    return _ForkingPickler.loads(res)\n",
      "ModuleNotFoundError: No module named 'row_handler'\n",
      "Process SpawnPoolWorker-168:\n",
      "Traceback (most recent call last):\n",
      "  File \"/Users/fbenitez/opt/anaconda3/lib/python3.8/multiprocessing/process.py\", line 315, in _bootstrap\n",
      "    self.run()\n",
      "  File \"/Users/fbenitez/opt/anaconda3/lib/python3.8/multiprocessing/process.py\", line 108, in run\n",
      "    self._target(*self._args, **self._kwargs)\n",
      "  File \"/Users/fbenitez/opt/anaconda3/lib/python3.8/multiprocessing/pool.py\", line 114, in worker\n",
      "    task = get()\n",
      "  File \"/Users/fbenitez/opt/anaconda3/lib/python3.8/multiprocessing/queues.py\", line 358, in get\n",
      "    return _ForkingPickler.loads(res)\n",
      "ModuleNotFoundError: No module named 'row_handler'\n",
      "Process SpawnPoolWorker-169:\n",
      "Traceback (most recent call last):\n",
      "  File \"/Users/fbenitez/opt/anaconda3/lib/python3.8/multiprocessing/process.py\", line 315, in _bootstrap\n",
      "    self.run()\n",
      "  File \"/Users/fbenitez/opt/anaconda3/lib/python3.8/multiprocessing/process.py\", line 108, in run\n",
      "    self._target(*self._args, **self._kwargs)\n",
      "  File \"/Users/fbenitez/opt/anaconda3/lib/python3.8/multiprocessing/pool.py\", line 114, in worker\n",
      "    task = get()\n",
      "  File \"/Users/fbenitez/opt/anaconda3/lib/python3.8/multiprocessing/queues.py\", line 358, in get\n",
      "    return _ForkingPickler.loads(res)\n",
      "ModuleNotFoundError: No module named 'row_handler'\n",
      "Process SpawnPoolWorker-170:\n",
      "Traceback (most recent call last):\n",
      "  File \"/Users/fbenitez/opt/anaconda3/lib/python3.8/multiprocessing/process.py\", line 315, in _bootstrap\n",
      "    self.run()\n",
      "  File \"/Users/fbenitez/opt/anaconda3/lib/python3.8/multiprocessing/process.py\", line 108, in run\n",
      "    self._target(*self._args, **self._kwargs)\n",
      "  File \"/Users/fbenitez/opt/anaconda3/lib/python3.8/multiprocessing/pool.py\", line 114, in worker\n",
      "    task = get()\n",
      "  File \"/Users/fbenitez/opt/anaconda3/lib/python3.8/multiprocessing/queues.py\", line 358, in get\n",
      "    return _ForkingPickler.loads(res)\n",
      "ModuleNotFoundError: No module named 'row_handler'\n",
      "Process SpawnPoolWorker-171:\n",
      "Traceback (most recent call last):\n",
      "  File \"/Users/fbenitez/opt/anaconda3/lib/python3.8/multiprocessing/process.py\", line 315, in _bootstrap\n",
      "    self.run()\n",
      "  File \"/Users/fbenitez/opt/anaconda3/lib/python3.8/multiprocessing/process.py\", line 108, in run\n",
      "    self._target(*self._args, **self._kwargs)\n",
      "  File \"/Users/fbenitez/opt/anaconda3/lib/python3.8/multiprocessing/pool.py\", line 114, in worker\n",
      "    task = get()\n",
      "  File \"/Users/fbenitez/opt/anaconda3/lib/python3.8/multiprocessing/queues.py\", line 358, in get\n",
      "    return _ForkingPickler.loads(res)\n",
      "ModuleNotFoundError: No module named 'row_handler'\n",
      "Process SpawnPoolWorker-172:\n",
      "Traceback (most recent call last):\n",
      "  File \"/Users/fbenitez/opt/anaconda3/lib/python3.8/multiprocessing/process.py\", line 315, in _bootstrap\n",
      "    self.run()\n",
      "  File \"/Users/fbenitez/opt/anaconda3/lib/python3.8/multiprocessing/process.py\", line 108, in run\n",
      "    self._target(*self._args, **self._kwargs)\n",
      "  File \"/Users/fbenitez/opt/anaconda3/lib/python3.8/multiprocessing/pool.py\", line 114, in worker\n",
      "    task = get()\n",
      "  File \"/Users/fbenitez/opt/anaconda3/lib/python3.8/multiprocessing/queues.py\", line 358, in get\n",
      "    return _ForkingPickler.loads(res)\n",
      "ModuleNotFoundError: No module named 'row_handler'\n",
      "Process SpawnPoolWorker-173:\n",
      "Traceback (most recent call last):\n",
      "  File \"/Users/fbenitez/opt/anaconda3/lib/python3.8/multiprocessing/process.py\", line 315, in _bootstrap\n",
      "    self.run()\n",
      "  File \"/Users/fbenitez/opt/anaconda3/lib/python3.8/multiprocessing/process.py\", line 108, in run\n",
      "    self._target(*self._args, **self._kwargs)\n",
      "  File \"/Users/fbenitez/opt/anaconda3/lib/python3.8/multiprocessing/pool.py\", line 114, in worker\n",
      "    task = get()\n",
      "  File \"/Users/fbenitez/opt/anaconda3/lib/python3.8/multiprocessing/queues.py\", line 358, in get\n",
      "    return _ForkingPickler.loads(res)\n",
      "ModuleNotFoundError: No module named 'row_handler'\n",
      "Process SpawnPoolWorker-174:\n",
      "Traceback (most recent call last):\n",
      "  File \"/Users/fbenitez/opt/anaconda3/lib/python3.8/multiprocessing/process.py\", line 315, in _bootstrap\n",
      "    self.run()\n",
      "  File \"/Users/fbenitez/opt/anaconda3/lib/python3.8/multiprocessing/process.py\", line 108, in run\n",
      "    self._target(*self._args, **self._kwargs)\n",
      "  File \"/Users/fbenitez/opt/anaconda3/lib/python3.8/multiprocessing/pool.py\", line 114, in worker\n",
      "    task = get()\n",
      "  File \"/Users/fbenitez/opt/anaconda3/lib/python3.8/multiprocessing/queues.py\", line 358, in get\n",
      "    return _ForkingPickler.loads(res)\n",
      "ModuleNotFoundError: No module named 'row_handler'\n",
      "Process SpawnPoolWorker-175:\n",
      "Traceback (most recent call last):\n",
      "  File \"/Users/fbenitez/opt/anaconda3/lib/python3.8/multiprocessing/process.py\", line 315, in _bootstrap\n",
      "    self.run()\n",
      "  File \"/Users/fbenitez/opt/anaconda3/lib/python3.8/multiprocessing/process.py\", line 108, in run\n",
      "    self._target(*self._args, **self._kwargs)\n",
      "  File \"/Users/fbenitez/opt/anaconda3/lib/python3.8/multiprocessing/pool.py\", line 114, in worker\n",
      "    task = get()\n",
      "  File \"/Users/fbenitez/opt/anaconda3/lib/python3.8/multiprocessing/queues.py\", line 358, in get\n",
      "    return _ForkingPickler.loads(res)\n",
      "ModuleNotFoundError: No module named 'row_handler'\n",
      "Process SpawnPoolWorker-176:\n",
      "Traceback (most recent call last):\n",
      "  File \"/Users/fbenitez/opt/anaconda3/lib/python3.8/multiprocessing/process.py\", line 315, in _bootstrap\n",
      "    self.run()\n",
      "  File \"/Users/fbenitez/opt/anaconda3/lib/python3.8/multiprocessing/process.py\", line 108, in run\n",
      "    self._target(*self._args, **self._kwargs)\n",
      "  File \"/Users/fbenitez/opt/anaconda3/lib/python3.8/multiprocessing/pool.py\", line 114, in worker\n",
      "    task = get()\n",
      "  File \"/Users/fbenitez/opt/anaconda3/lib/python3.8/multiprocessing/queues.py\", line 358, in get\n",
      "    return _ForkingPickler.loads(res)\n",
      "ModuleNotFoundError: No module named 'row_handler'\n"
     ]
    },
    {
     "ename": "KeyboardInterrupt",
     "evalue": "",
     "output_type": "error",
     "traceback": [
      "\u001b[0;31m---------------------------------------------------------------------------\u001b[0m",
      "\u001b[0;31mKeyboardInterrupt\u001b[0m                         Traceback (most recent call last)",
      "File \u001b[0;32m<timed exec>:5\u001b[0m, in \u001b[0;36m<module>\u001b[0;34m\u001b[0m\n",
      "File \u001b[0;32m~/opt/anaconda3/lib/python3.8/multiprocessing/pool.py:364\u001b[0m, in \u001b[0;36mPool.map\u001b[0;34m(self, func, iterable, chunksize)\u001b[0m\n\u001b[1;32m    <a href='file:///~/opt/anaconda3/lib/python3.8/multiprocessing/pool.py?line=358'>359</a>\u001b[0m \u001b[39mdef\u001b[39;00m \u001b[39mmap\u001b[39m(\u001b[39mself\u001b[39m, func, iterable, chunksize\u001b[39m=\u001b[39m\u001b[39mNone\u001b[39;00m):\n\u001b[1;32m    <a href='file:///~/opt/anaconda3/lib/python3.8/multiprocessing/pool.py?line=359'>360</a>\u001b[0m     \u001b[39m'''\u001b[39;00m\n\u001b[1;32m    <a href='file:///~/opt/anaconda3/lib/python3.8/multiprocessing/pool.py?line=360'>361</a>\u001b[0m \u001b[39m    Apply `func` to each element in `iterable`, collecting the results\u001b[39;00m\n\u001b[1;32m    <a href='file:///~/opt/anaconda3/lib/python3.8/multiprocessing/pool.py?line=361'>362</a>\u001b[0m \u001b[39m    in a list that is returned.\u001b[39;00m\n\u001b[1;32m    <a href='file:///~/opt/anaconda3/lib/python3.8/multiprocessing/pool.py?line=362'>363</a>\u001b[0m \u001b[39m    '''\u001b[39;00m\n\u001b[0;32m--> <a href='file:///~/opt/anaconda3/lib/python3.8/multiprocessing/pool.py?line=363'>364</a>\u001b[0m     \u001b[39mreturn\u001b[39;00m \u001b[39mself\u001b[39;49m\u001b[39m.\u001b[39;49m_map_async(func, iterable, mapstar, chunksize)\u001b[39m.\u001b[39;49mget()\n",
      "File \u001b[0;32m~/opt/anaconda3/lib/python3.8/multiprocessing/pool.py:765\u001b[0m, in \u001b[0;36mApplyResult.get\u001b[0;34m(self, timeout)\u001b[0m\n\u001b[1;32m    <a href='file:///~/opt/anaconda3/lib/python3.8/multiprocessing/pool.py?line=763'>764</a>\u001b[0m \u001b[39mdef\u001b[39;00m \u001b[39mget\u001b[39m(\u001b[39mself\u001b[39m, timeout\u001b[39m=\u001b[39m\u001b[39mNone\u001b[39;00m):\n\u001b[0;32m--> <a href='file:///~/opt/anaconda3/lib/python3.8/multiprocessing/pool.py?line=764'>765</a>\u001b[0m     \u001b[39mself\u001b[39;49m\u001b[39m.\u001b[39;49mwait(timeout)\n\u001b[1;32m    <a href='file:///~/opt/anaconda3/lib/python3.8/multiprocessing/pool.py?line=765'>766</a>\u001b[0m     \u001b[39mif\u001b[39;00m \u001b[39mnot\u001b[39;00m \u001b[39mself\u001b[39m\u001b[39m.\u001b[39mready():\n\u001b[1;32m    <a href='file:///~/opt/anaconda3/lib/python3.8/multiprocessing/pool.py?line=766'>767</a>\u001b[0m         \u001b[39mraise\u001b[39;00m \u001b[39mTimeoutError\u001b[39;00m\n",
      "File \u001b[0;32m~/opt/anaconda3/lib/python3.8/multiprocessing/pool.py:762\u001b[0m, in \u001b[0;36mApplyResult.wait\u001b[0;34m(self, timeout)\u001b[0m\n\u001b[1;32m    <a href='file:///~/opt/anaconda3/lib/python3.8/multiprocessing/pool.py?line=760'>761</a>\u001b[0m \u001b[39mdef\u001b[39;00m \u001b[39mwait\u001b[39m(\u001b[39mself\u001b[39m, timeout\u001b[39m=\u001b[39m\u001b[39mNone\u001b[39;00m):\n\u001b[0;32m--> <a href='file:///~/opt/anaconda3/lib/python3.8/multiprocessing/pool.py?line=761'>762</a>\u001b[0m     \u001b[39mself\u001b[39;49m\u001b[39m.\u001b[39;49m_event\u001b[39m.\u001b[39;49mwait(timeout)\n",
      "File \u001b[0;32m~/opt/anaconda3/lib/python3.8/threading.py:558\u001b[0m, in \u001b[0;36mEvent.wait\u001b[0;34m(self, timeout)\u001b[0m\n\u001b[1;32m    <a href='file:///~/opt/anaconda3/lib/python3.8/threading.py?line=555'>556</a>\u001b[0m signaled \u001b[39m=\u001b[39m \u001b[39mself\u001b[39m\u001b[39m.\u001b[39m_flag\n\u001b[1;32m    <a href='file:///~/opt/anaconda3/lib/python3.8/threading.py?line=556'>557</a>\u001b[0m \u001b[39mif\u001b[39;00m \u001b[39mnot\u001b[39;00m signaled:\n\u001b[0;32m--> <a href='file:///~/opt/anaconda3/lib/python3.8/threading.py?line=557'>558</a>\u001b[0m     signaled \u001b[39m=\u001b[39m \u001b[39mself\u001b[39;49m\u001b[39m.\u001b[39;49m_cond\u001b[39m.\u001b[39;49mwait(timeout)\n\u001b[1;32m    <a href='file:///~/opt/anaconda3/lib/python3.8/threading.py?line=558'>559</a>\u001b[0m \u001b[39mreturn\u001b[39;00m signaled\n",
      "File \u001b[0;32m~/opt/anaconda3/lib/python3.8/threading.py:302\u001b[0m, in \u001b[0;36mCondition.wait\u001b[0;34m(self, timeout)\u001b[0m\n\u001b[1;32m    <a href='file:///~/opt/anaconda3/lib/python3.8/threading.py?line=299'>300</a>\u001b[0m \u001b[39mtry\u001b[39;00m:    \u001b[39m# restore state no matter what (e.g., KeyboardInterrupt)\u001b[39;00m\n\u001b[1;32m    <a href='file:///~/opt/anaconda3/lib/python3.8/threading.py?line=300'>301</a>\u001b[0m     \u001b[39mif\u001b[39;00m timeout \u001b[39mis\u001b[39;00m \u001b[39mNone\u001b[39;00m:\n\u001b[0;32m--> <a href='file:///~/opt/anaconda3/lib/python3.8/threading.py?line=301'>302</a>\u001b[0m         waiter\u001b[39m.\u001b[39;49macquire()\n\u001b[1;32m    <a href='file:///~/opt/anaconda3/lib/python3.8/threading.py?line=302'>303</a>\u001b[0m         gotit \u001b[39m=\u001b[39m \u001b[39mTrue\u001b[39;00m\n\u001b[1;32m    <a href='file:///~/opt/anaconda3/lib/python3.8/threading.py?line=303'>304</a>\u001b[0m     \u001b[39melse\u001b[39;00m:\n",
      "\u001b[0;31mKeyboardInterrupt\u001b[0m: "
     ]
    }
   ],
   "source": [
    "%%time\n",
    "# TODO\n",
    "# 1. solve the issue of not calling row_handler module\n",
    "from functools import partial\n",
    "import row_handler\n",
    "if __name__ == '__main__':\n",
    "    with multiprocessing.Pool(NumCores) as pool:\n",
    "        GeoMagParallelResult = pd.concat(pool.map(partial(row_handler.row_handler), df_chunks), ignore_index=True)"
   ]
  },
  {
   "cell_type": "markdown",
   "metadata": {},
   "source": [
    "With the Parallel mode the Annotation process takes about 12 seconds to complete ( We had tested the parallel process in a  windows server machine with 12 cores, see the image bellow). With the same GPS track in the sequetial mode the process is complete in about 2 minutes. In the image bellow you can see how the machine create several python processes and all cores (full CPU capacity) is taken.\n",
    "\n",
    "<div class=\"alert alert-warning\" role=\"alert\">\n",
    "<strong>🔈 Multiprocessing:</strong>\n",
    "\n",
    "is even  more powerfull when you have to process a big amount of data (e.g. 2 millons of points). Although here is making a notable improvement if you have to process a big dataset the parallelization makes even more sense.\n",
    "\n",
    "**Be aware** that there is no output cell in here, you can follow the parallelization progress in the Anaconda Prompt.  \n",
    "\n",
    "</div>\n",
    "\n",
    "<img src=\"../images/CoresWorking.png\" style=\"zoom: 100%;\" >\n"
   ]
  },
  {
   "cell_type": "markdown",
   "metadata": {},
   "source": [
    "##  The final result \n",
    "\n",
    "With the NEC components for each GPS Track point, it is possible to compute the aditional magnetic components. For more information about the magnetic components and their relevance go to the main paper or notebook.\n",
    "\n",
    "<div class=\"alert alert-info\" role=\"alert\">\n",
    "    <strong>📘 The annotated dataframe will include the following attributes:</strong> If you need more information about how the geomagnetic component are described go to the main MagGeo Notebook (Add Link).\n",
    "    <ul>\n",
    "      <li><strong>Latitude</strong> from the GPS Track.</li>\n",
    "      <li><strong>Longitude</strong> from the GPS Track.</li>\n",
    "      <li><strong>Timestamp</strong> from the GPS Track.</li>\n",
    "      <li><strong>Magnetic Field Intensity</strong>  mapped as Fgps in nanoTeslas (nT).</li>\n",
    "      <li><strong>N (Northwards) component</strong> mapped as N in nanoTeslas (nT).</li>\n",
    "      <li><strong>E (Eastwards) component</strong> mapped as E. in nanoteslas (nT).</li>\n",
    "      <li><strong>C (Downwards or Center)</strong> component mapped as C in nanoTeslas (nT).</li>\n",
    "      <li><strong>Horizontal component</strong> mapped as H in nanoTeslas (nT).</li>\n",
    "      <li><strong>Magnetic Inclination </strong> mapped as I in degrees.</li> \n",
    "      <li><strong>Magnetic Declination or dip angle</strong> mapped as D in degrees</li>\n",
    "      <li><strong>Kp Index</strong> mapped as kp</li>\n",
    "      <li><strong>Total Points</strong> as the amount of Swarm messuares included in the ST-IDW process from the trajectories requested in the three satellites.</li>\n",
    "      <li><strong>Minimum Distance</strong> mapped as MinDist, representing the minimum distance amount the set of identified point inside the Space Time cylinder and each GPS point location.</li>\n",
    "      <li><strong>Average Distance</strong> mapped as AvDist, representing the average distance amount the set of distances between the identified Swarm Point in the Space Time cylinder and the GPS Points location.</li>\n",
    "    </ul>\n",
    "\n",
    "</div> "
   ]
  },
  {
   "cell_type": "code",
   "execution_count": null,
   "metadata": {
    "ExecuteTime": {
     "end_time": "2021-02-16T17:46:05.387726Z",
     "start_time": "2021-02-16T17:46:05.268724Z"
    },
    "scrolled": true
   },
   "outputs": [],
   "source": [
    "#14. Having Intepolated and weigth magnetic values, we can compute the other magnectic components. \n",
    "GeoMagParallelResult['H'] = np.sqrt((GeoMagParallelResult['N']**2)+(GeoMagParallelResult['E']**2))\n",
    "#check the arcgtan in python., From arctan2 is saver.\n",
    "DgpsRad = np.arctan2(GeoMagParallelResult['E'],GeoMagParallelResult['N'])\n",
    "GeoMagParallelResult['D'] = np.degrees(DgpsRad)\n",
    "IgpsRad = np.arctan2(GeoMagParallelResult['C'],GeoMagParallelResult['H'])\n",
    "GeoMagParallelResult['I'] = np.degrees(IgpsRad)\n",
    "GeoMagParallelResult['F'] = np.sqrt((GeoMagParallelResult['N']**2)+(GeoMagParallelResult['E']**2)+(GeoMagParallelResult['C']**2))\n",
    "GeoMagParallelResult"
   ]
  },
  {
   "cell_type": "markdown",
   "metadata": {},
   "source": [
    "The previous dataframe (GPS_ResInt), MagGeo has computed the geomagnetic components for each locations and time of your CSV trajectory. Now we will finish up combining the original atributes from your CSV with the annotated results from MagGeo."
   ]
  },
  {
   "cell_type": "code",
   "execution_count": null,
   "metadata": {
    "ExecuteTime": {
     "end_time": "2021-02-16T17:46:05.749728Z",
     "start_time": "2021-02-16T17:46:05.393728Z"
    },
    "scrolled": true
   },
   "outputs": [],
   "source": [
    "%%time\n",
    "os.chdir(r\"./data\")\n",
    "originalGPSTrack=pd.read_csv(gpsfilename)\n",
    "MagGeoResult = pd.concat([originalGPSTrack, GeoMagParallelResult], axis=1)\n",
    "#Drop duplicated columns. Latitude, Longitued, and DateTime will not be part of the final result.\n",
    "# MagGeoResult.drop(columns=['Latitude', 'Longitude', 'DateTime'], inplace=True)\n",
    "os.chdir(r\"../\")\n",
    "MagGeoResult"
   ]
  },
  {
   "cell_type": "markdown",
   "metadata": {
    "ExecuteTime": {
     "end_time": "2021-02-05T20:11:22.709905Z",
     "start_time": "2021-02-05T20:11:22.486852Z"
    }
   },
   "source": [
    "## Export the final results to a CSV file\n"
   ]
  },
  {
   "cell_type": "code",
   "execution_count": null,
   "metadata": {
    "ExecuteTime": {
     "end_time": "2021-02-16T17:46:06.035734Z",
     "start_time": "2021-02-16T17:46:05.758730Z"
    }
   },
   "outputs": [],
   "source": [
    "%%time\n",
    "#Exporting the CSV file\n",
    "os.chdir(r\"./results\")\n",
    "outputfile =\"GeoMagResult_\"+gpsfilename\n",
    "export_csv = MagGeoResult.to_csv (outputfile, index = None, header=True)\n",
    "os.chdir(r\"../\")"
   ]
  },
  {
   "cell_type": "markdown",
   "metadata": {},
   "source": [
    "## Validate the results (optional)\n",
    "To validate the results we plot the `F`column."
   ]
  },
  {
   "cell_type": "code",
   "execution_count": null,
   "metadata": {
    "ExecuteTime": {
     "end_time": "2021-02-16T17:46:31.975321Z",
     "start_time": "2021-02-16T17:46:31.734290Z"
    },
    "scrolled": true
   },
   "outputs": [],
   "source": [
    "import matplotlib.pyplot as plt\n",
    "## Creating a copy of the results and setting the Datetime Column as dataframe index.\n",
    "ValidateDF = GeoMagParallelResult.copy()\n",
    "ValidateDF.set_index(\"DateTime\", inplace=True)\n",
    "## Plotting the F column.\n",
    "hist = ValidateDF.hist(column='F')\n",
    "plt.title('F distribution')\n",
    "plt.xlabel('F in nT')\n",
    "plt.ylabel('# of measurements')"
   ]
  },
  {
   "cell_type": "markdown",
   "metadata": {},
   "source": [
    "## Map the GPS Track using the annotated Magnetic Values (optional)\n",
    "\n",
    "Now we are going to plot the annotated GPS track stored into the MagDataFinal dataframe to see how the different magnetic components in a map to have a better prespective of the impact of the earth magnetic field."
   ]
  },
  {
   "cell_type": "code",
   "execution_count": null,
   "metadata": {
    "ExecuteTime": {
     "end_time": "2021-02-16T17:46:09.810973Z",
     "start_time": "2021-02-16T17:46:08.014136Z"
    },
    "scrolled": true
   },
   "outputs": [],
   "source": [
    "import matplotlib.pyplot as plt\n",
    "\n",
    "ValidateDF.plot(kind=\"scatter\", x=\"Latitude\", y=\"Longitude\",\n",
    "    label=\"Magnetic Intensity in nT\",\n",
    "    c=\"F\", cmap=plt.get_cmap(\"gist_rainbow\"),\n",
    "    colorbar=True, alpha=0.4, figsize=(10,7),\n",
    "    sharex=False #This is only needed to get the x-axis label working due to a current bug in pandas plot.\n",
    ")\n",
    "\n",
    "plt.ylabel(\"Longitude\", fontsize=12)\n",
    "plt.xlabel(\"Latitude\", fontsize=10)\n",
    "plt.legend(fontsize=12)\n",
    "plt.show()"
   ]
  },
  {
   "cell_type": "code",
   "execution_count": null,
   "metadata": {
    "ExecuteTime": {
     "end_time": "2021-02-16T17:46:25.913426Z",
     "start_time": "2021-02-16T17:46:09.815973Z"
    },
    "scrolled": true
   },
   "outputs": [],
   "source": [
    "import geopandas\n",
    "gdf = geopandas.GeoDataFrame(ValidateDF, geometry=geopandas.points_from_xy(ValidateDF.Longitude, ValidateDF.Latitude))\n",
    "gdf.head()"
   ]
  },
  {
   "cell_type": "code",
   "execution_count": null,
   "metadata": {
    "ExecuteTime": {
     "end_time": "2021-02-16T17:46:28.855369Z",
     "start_time": "2021-02-16T17:46:25.919411Z"
    },
    "scrolled": true
   },
   "outputs": [],
   "source": [
    "world = geopandas.read_file(geopandas.datasets.get_path('naturalearth_lowres'))\n",
    "ax = world.plot(color='white', edgecolor='black', figsize = (12,6))\n",
    "\n",
    "minx, miny, maxx, maxy = gdf.total_bounds\n",
    "ax.set_xlim(minx, maxx)\n",
    "ax.set_ylim(miny, maxy)\n",
    "\n",
    "# We can now plot our ``GeoDataFrame``.\n",
    "gdf.plot(ax=ax, column='F', legend=True, \n",
    "         legend_kwds={'label': \"Magnetic Intensity in nT\",\n",
    "                      'orientation': \"horizontal\"})\n",
    "plt.ylabel(\"Longitude\", fontsize=9)\n",
    "plt.xlabel(\"Latitude\", fontsize=9)\n",
    "\n",
    "plt.show()"
   ]
  },
  {
   "cell_type": "code",
   "execution_count": null,
   "metadata": {},
   "outputs": [],
   "source": [
    "gdf.hvplot(title=f'Annotated trajectory using MagGeo - F GeoMag Intensity',\n",
    "           geo=True,\n",
    "           c='F',\n",
    "           tiles='CartoLight',\n",
    "           frame_width=700,\n",
    "           frame_height=500)"
   ]
  },
  {
   "cell_type": "code",
   "execution_count": null,
   "metadata": {},
   "outputs": [],
   "source": [
    "gdf.hvplot(title=f'Annotated trajectory using MagGeo - I Inclination',\n",
    "           geo=True,\n",
    "           tiles='CartoLight',\n",
    "           c='I',\n",
    "           cmap='Viridis',\n",
    "           frame_width=700,\n",
    "           frame_height=500)"
   ]
  },
  {
   "cell_type": "markdown",
   "metadata": {},
   "source": [
    "### Extra maps using mapplot"
   ]
  },
  {
   "cell_type": "code",
   "execution_count": null,
   "metadata": {
    "ExecuteTime": {
     "end_time": "2021-02-16T17:46:31.732297Z",
     "start_time": "2021-02-16T17:46:28.857955Z"
    },
    "scrolled": true
   },
   "outputs": [],
   "source": [
    "fig, (ax1, ax2) = plt.subplots(ncols=2, figsize = (15,6))\n",
    "\n",
    "ax1 = world.plot(ax=ax1, color='white', edgecolor='black')\n",
    "xlim = ([gdf.total_bounds[0],  gdf.total_bounds[2]])\n",
    "ylim = ([gdf.total_bounds[1],  gdf.total_bounds[3]])\n",
    "ax1.set_xlim(xlim)\n",
    "ax1.set_ylim(ylim)\n",
    "\n",
    "\n",
    "gdf.plot(ax=ax1, column='F', legend=True,\n",
    "         legend_kwds={'label': \"Magnetic Intensity in nT\",\n",
    "                      'orientation': \"horizontal\"})\n",
    "plt.ylabel(\"Longitude\", fontsize=9)\n",
    "plt.xlabel(\"Latitude\", fontsize=9)\n",
    "ax1.set_title('Magnetic Intensity - F')\n",
    "ax1.set_xlabel('Latitude')\n",
    "ax1.set_ylabel('Longitude')\n",
    "\n",
    "\n",
    "ax2 = world.plot( ax=ax2, color='white', edgecolor='black')\n",
    "xlim = ([gdf.total_bounds[0],  gdf.total_bounds[2]])\n",
    "ylim = ([gdf.total_bounds[1],  gdf.total_bounds[3]])\n",
    "ax2.set_xlim(xlim)\n",
    "ax2.set_ylim(ylim)\n",
    "\n",
    "\n",
    "# We can now plot our ``GeoDataFrame``.\n",
    "gdf.plot(ax=ax2, column='D', legend=True, cmap='Spectral', \n",
    "         legend_kwds={'label': \" Declination in Degrees\",\n",
    "                      'orientation': \"horizontal\"})\n",
    "ax2.set_title('Declination - D')\n",
    "ax2.set_xlabel('Latitude')\n",
    "ax2.set_ylabel('Longitude')"
   ]
  }
 ],
 "metadata": {
  "kernelspec": {
   "display_name": "Python 3",
   "language": "python",
   "name": "python3"
  },
  "language_info": {
   "codemirror_mode": {
    "name": "ipython",
    "version": 3
   },
   "file_extension": ".py",
   "mimetype": "text/x-python",
   "name": "python",
   "nbconvert_exporter": "python",
   "pygments_lexer": "ipython3",
   "version": "3.8.12"
  },
  "toc": {
   "base_numbering": 1,
   "nav_menu": {},
   "number_sections": true,
   "sideBar": true,
   "skip_h1_title": false,
   "title_cell": "Table of Contents",
   "title_sidebar": "Contents",
   "toc_cell": false,
   "toc_position": {},
   "toc_section_display": true,
   "toc_window_display": true
  }
 },
 "nbformat": 4,
 "nbformat_minor": 4
}
